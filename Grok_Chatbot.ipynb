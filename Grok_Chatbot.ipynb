{
  "nbformat": 4,
  "nbformat_minor": 0,
  "metadata": {
    "colab": {
      "provenance": [],
      "authorship_tag": "ABX9TyPskfx6RxBlbKnzKa1KRm+M",
      "include_colab_link": true
    },
    "kernelspec": {
      "name": "python3",
      "display_name": "Python 3"
    },
    "language_info": {
      "name": "python"
    }
  },
  "cells": [
    {
      "cell_type": "markdown",
      "metadata": {
        "id": "view-in-github",
        "colab_type": "text"
      },
      "source": [
        "<a href=\"https://colab.research.google.com/github/sathvik3103/GenAI/blob/main/Grok_Chatbot.ipynb\" target=\"_parent\"><img src=\"https://colab.research.google.com/assets/colab-badge.svg\" alt=\"Open In Colab\"/></a>"
      ]
    },
    {
      "cell_type": "code",
      "execution_count": 2,
      "metadata": {
        "colab": {
          "base_uri": "https://localhost:8080/"
        },
        "id": "rw2KsYwO_Z8t",
        "outputId": "a36c66e4-e468-4c94-9674-aaf47203c6ab"
      },
      "outputs": [
        {
          "output_type": "stream",
          "name": "stdout",
          "text": [
            "ChatCompletionMessage(content=\"The sentiment on Swiggy's IPO listing price in the Indian stock market seems to be mixed, based on recent discussions and analyses:\\n\\n1. **High Valuation Concerns**: Some market observers are skeptical about Swiggy's high valuation, which was last reported to be seeking around $10.7 billion. There's a concern that this might lead to a lower listing price or a less enthusiastic response from investors, especially given the recent performance of other tech IPOs like Zomato, which has seen significant fluctuations in its stock price post-listing.\\n\\n2. **IPO Timing**: Discussions around the timing of Swiggy's IPO indicate that there might be some uncertainty or delay. This uncertainty could affect investor sentiment negatively as waiting too long might make the IPO less attractive if market conditions change or if investor interest wanes.\\n\\n3. **Comparison with Competitors**: Swiggy's valuation and potential listing price are often compared with Zomato. Given Zomato's experience, there's caution among investors about overpaying for food delivery stocks, which might temper expectations for Swiggy's IPO.\\n\\n4. **Market Volatility**: The general market sentiment towards IPOs has been cautious due to volatility in the stock market. Investors are becoming more selective, focusing on profitability, sustainable business models, and growth prospects rather than just growth at all costs.\\n\\n5. **Optimism**: Despite the concerns, there are also voices of optimism. Swiggy has shown growth, and if they can demonstrate a path to profitability, some investors believe it could still command a good listing price. There's also mention of Swiggy's potential to expand into other verticals, which could justify a higher valuation.\\n\\n6. **Insider Information**: There's a tweet suggesting that someone close to Swiggy's management believes the company is targeting a listing price that reflects its growth and market potential, indicating internal confidence in achieving a favorable valuation.\\n\\nIn summary, while there is excitement about Swiggy's potential, there's also a significant amount of caution due to its high valuation, the performance of similar companies post-IPO, and general market conditions. Investors seem to be waiting for clearer signals on Swiggy's financial health, growth strategy, and market conditions before making definitive judgments on what the IPO listing price might be.\", refusal=None, role='assistant', audio=None, function_call=None, tool_calls=None)\n"
          ]
        }
      ],
      "source": [
        "from google.colab import userdata\n",
        "from openai import OpenAI\n",
        "\n",
        "XAI_API_KEY = userdata.get(\"XAI_API_KEY\")\n",
        "client = OpenAI(\n",
        "    api_key=XAI_API_KEY,\n",
        "    base_url=\"https://api.x.ai/v1\",\n",
        ")\n",
        "\n",
        "completion = client.chat.completions.create(\n",
        "    model=\"grok-beta\",\n",
        "    messages=[\n",
        "        {\"role\": \"system\", \"content\": \"You are Grok, a chatbot to summarize the news using the tweets around or related to that topic.\"},\n",
        "        {\"role\": \"user\", \"content\": \"What is the current sentiment on swiggy ipo listing price in indian stock market ?\"},\n",
        "    ],\n",
        ")\n",
        "\n",
        "print(completion.choices[0].message.content)\n"
      ]
    },
    {
      "cell_type": "code",
      "source": [
        "from IPython.display import Markdown\n",
        "import textwrap\n",
        "\n",
        "def to_markdown(text):\n",
        "  text = text.replace('•', '  *')\n",
        "  return Markdown(textwrap.indent(text, '> ', predicate=lambda _: True))\n",
        "to_markdown(completion.choices[0].message.content)"
      ],
      "metadata": {
        "colab": {
          "base_uri": "https://localhost:8080/",
          "height": 415
        },
        "id": "6DinQO8kAlzm",
        "outputId": "7e247f59-e183-4e17-ed81-f8feade39004"
      },
      "execution_count": 4,
      "outputs": [
        {
          "output_type": "execute_result",
          "data": {
            "text/plain": [
              "<IPython.core.display.Markdown object>"
            ],
            "text/markdown": "> The sentiment on Swiggy's IPO listing price in the Indian stock market seems to be mixed, based on recent discussions and analyses:\n> \n> 1. **High Valuation Concerns**: Some market observers are skeptical about Swiggy's high valuation, which was last reported to be seeking around $10.7 billion. There's a concern that this might lead to a lower listing price or a less enthusiastic response from investors, especially given the recent performance of other tech IPOs like Zomato, which has seen significant fluctuations in its stock price post-listing.\n> \n> 2. **IPO Timing**: Discussions around the timing of Swiggy's IPO indicate that there might be some uncertainty or delay. This uncertainty could affect investor sentiment negatively as waiting too long might make the IPO less attractive if market conditions change or if investor interest wanes.\n> \n> 3. **Comparison with Competitors**: Swiggy's valuation and potential listing price are often compared with Zomato. Given Zomato's experience, there's caution among investors about overpaying for food delivery stocks, which might temper expectations for Swiggy's IPO.\n> \n> 4. **Market Volatility**: The general market sentiment towards IPOs has been cautious due to volatility in the stock market. Investors are becoming more selective, focusing on profitability, sustainable business models, and growth prospects rather than just growth at all costs.\n> \n> 5. **Optimism**: Despite the concerns, there are also voices of optimism. Swiggy has shown growth, and if they can demonstrate a path to profitability, some investors believe it could still command a good listing price. There's also mention of Swiggy's potential to expand into other verticals, which could justify a higher valuation.\n> \n> 6. **Insider Information**: There's a tweet suggesting that someone close to Swiggy's management believes the company is targeting a listing price that reflects its growth and market potential, indicating internal confidence in achieving a favorable valuation.\n> \n> In summary, while there is excitement about Swiggy's potential, there's also a significant amount of caution due to its high valuation, the performance of similar companies post-IPO, and general market conditions. Investors seem to be waiting for clearer signals on Swiggy's financial health, growth strategy, and market conditions before making definitive judgments on what the IPO listing price might be."
          },
          "metadata": {},
          "execution_count": 4
        }
      ]
    },
    {
      "cell_type": "code",
      "source": [
        "!pip install -q streamlit\n",
        "!npm install localtunnel"
      ],
      "metadata": {
        "colab": {
          "base_uri": "https://localhost:8080/"
        },
        "id": "XcqxvePJFVNq",
        "outputId": "60e90b05-6ce3-469e-e6dd-6800fa95e35f"
      },
      "execution_count": 8,
      "outputs": [
        {
          "output_type": "stream",
          "name": "stdout",
          "text": [
            "\u001b[K\u001b[?25h\n",
            "added 22 packages, and audited 23 packages in 2s\n",
            "\n",
            "3 packages are looking for funding\n",
            "  run `npm fund` for details\n",
            "\n",
            "2 \u001b[33m\u001b[1mmoderate\u001b[22m\u001b[39m severity vulnerabilities\n",
            "\n",
            "To address all issues, run:\n",
            "  npm audit fix\n",
            "\n",
            "Run `npm audit` for details.\n"
          ]
        }
      ]
    },
    {
      "cell_type": "code",
      "source": [
        "%%writefile app.py\n",
        "import streamlit as st\n",
        "\n",
        "st.title(\"My Streamlit App\")\n",
        "import streamlit as st\n",
        "from openai import OpenAI\n",
        "from google.colab import userdata\n",
        "\n",
        "# Set up OpenAI client\n",
        "XAI_API_KEY = userdata.get(\"XAI_API_KEY\")\n",
        "client = OpenAI(\n",
        "    api_key=XAI_API_KEY,\n",
        "    base_url=\"https://api.x.ai/v1\",\n",
        ")\n",
        "\n",
        "# Streamlit app\n",
        "st.title(\"Grok Chat Bot\")\n",
        "st.write(\"Ask any question to get an answer with a summary of related tweets!\")\n",
        "\n",
        "# Initialize chat history\n",
        "if \"messages\" not in st.session_state:\n",
        "    st.session_state.messages = []\n",
        "\n",
        "# Display chat messages from history on app rerun\n",
        "for message in st.session_state.messages:\n",
        "    with st.chat_message(message[\"role\"]):\n",
        "        st.markdown(message[\"content\"])\n",
        "\n",
        "# Accept user input\n",
        "if prompt := st.chat_input(\"What would you like to know?\"):\n",
        "    # Add user message to chat history\n",
        "    st.session_state.messages.append({\"role\": \"user\", \"content\": prompt})\n",
        "\n",
        "    # Display user message in chat message container\n",
        "    with st.chat_message(\"user\"):\n",
        "        st.markdown(prompt)\n",
        "\n",
        "    # Display assistant response in chat message container\n",
        "    with st.chat_message(\"assistant\"):\n",
        "        message_placeholder = st.empty()\n",
        "        full_response = \"\"\n",
        "\n",
        "        # Send request to Grok\n",
        "        for response in client.chat.completions.create(\n",
        "            model=\"grok-beta\",\n",
        "            messages=[\n",
        "                {\"role\": \"system\", \"content\": \"You are Grok, a chatbot to summarize the news using the tweets around or related to that topic.\"},\n",
        "                {\"role\": \"user\", \"content\": prompt},\n",
        "            ],\n",
        "            stream=True,\n",
        "        ):\n",
        "            full_response += (response.choices[0].delta.content or \"\")\n",
        "            message_placeholder.markdown(full_response + \"▌\")\n",
        "        message_placeholder.markdown(full_response)\n",
        "\n",
        "    # Add assistant response to chat history\n",
        "    st.session_state.messages.append({\"role\": \"assistant\", \"content\": full_response})\n",
        "\n",
        "# Add a sidebar with additional information\n",
        "st.sidebar.title(\"About Grok Chat Bot\")\n",
        "st.sidebar.info(\n",
        "    \"This chat bot uses the Grok model to provide answers and summarize tweets \"\n",
        "    \"related to your questions. It's powered by X.AI's API and Streamlit.\"\n",
        ")\n",
        "\n",
        "# Add a footer\n",
        "st.markdown(\n",
        "    \"\"\"\n",
        "    ---\n",
        "    Created with ❤️ using Streamlit and X.AI's Grok model\n",
        "    \"\"\"\n",
        ")"
      ],
      "metadata": {
        "colab": {
          "base_uri": "https://localhost:8080/"
        },
        "id": "b6x3JpRiFZeX",
        "outputId": "26bed1b8-79de-4d6f-89be-4414da410c3d"
      },
      "execution_count": 10,
      "outputs": [
        {
          "output_type": "stream",
          "name": "stdout",
          "text": [
            "Overwriting app.py\n"
          ]
        }
      ]
    },
    {
      "cell_type": "code",
      "source": [
        "!streamlit run app.py --server.address=localhost &>/content/logs.txt &"
      ],
      "metadata": {
        "id": "RQPzKwIdFogm"
      },
      "execution_count": 22,
      "outputs": []
    },
    {
      "cell_type": "code",
      "source": [
        "!npx localtunnel --port 8501 & wget -q -O - https://loca.lt/mytunnelpassword"
      ],
      "metadata": {
        "colab": {
          "base_uri": "https://localhost:8080/"
        },
        "id": "UJw70rF0Ftfc",
        "outputId": "0b48bdb9-25c2-42c9-9bce-6a84ee720726"
      },
      "execution_count": 23,
      "outputs": [
        {
          "output_type": "stream",
          "name": "stdout",
          "text": [
            "34.23.179.237your url is: https://eleven-camels-win.loca.lt\n"
          ]
        }
      ]
    }
  ]
}