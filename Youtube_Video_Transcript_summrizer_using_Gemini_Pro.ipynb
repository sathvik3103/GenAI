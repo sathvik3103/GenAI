{
  "nbformat": 4,
  "nbformat_minor": 0,
  "metadata": {
    "colab": {
      "provenance": [],
      "gpuType": "T4",
      "authorship_tag": "ABX9TyOV1t08e+PEA+C6A1lwt6a6",
      "include_colab_link": true
    },
    "kernelspec": {
      "name": "python3",
      "display_name": "Python 3"
    },
    "language_info": {
      "name": "python"
    },
    "accelerator": "GPU"
  },
  "cells": [
    {
      "cell_type": "markdown",
      "metadata": {
        "id": "view-in-github",
        "colab_type": "text"
      },
      "source": [
        "<a href=\"https://colab.research.google.com/github/sathvik3103/GenAI/blob/main/Youtube_Video_Transcript_summrizer_using_Gemini_Pro.ipynb\" target=\"_parent\"><img src=\"https://colab.research.google.com/assets/colab-badge.svg\" alt=\"Open In Colab\"/></a>"
      ]
    },
    {
      "cell_type": "code",
      "execution_count": 5,
      "metadata": {
        "id": "ybTScI7vxlVW"
      },
      "outputs": [],
      "source": [
        "!pip install -q streamlit\n",
        "!pip install -q google-generativeai\n",
        "!pip install -q youtube-transcript-api\n",
        "import streamlit as st\n",
        "import google.generativeai as genai\n",
        "from youtube_transcript_api import YouTubeTranscriptApi"
      ]
    },
    {
      "cell_type": "code",
      "source": [
        "from google.colab import userdata\n",
        "genai.configure(api_key=userdata.get(\"GOOGLE_API_KEY\"))"
      ],
      "metadata": {
        "id": "Yl_TIgFGyYzm"
      },
      "execution_count": 6,
      "outputs": []
    },
    {
      "cell_type": "code",
      "source": [
        "prompt = \"\"\"You are an expert YouTube video summarizer.\n",
        "Your task is to analyze the provided transcript and condense the key information into a clear and concise summary.\n",
        "Highlight the most important points from the video in bullet format, ensuring that the summary is no more than 250 words.\n",
        "Focus on capturing the core message and any critical details to provide an accurate and comprehensive overview of the video's content.\n",
        "Please summarize the following transcript text:\"\"\""
      ],
      "metadata": {
        "id": "K_gClTGYyj7q"
      },
      "execution_count": 8,
      "outputs": []
    },
    {
      "cell_type": "code",
      "source": [
        "## getting the transcript data from yt videos\n",
        "def extract_transcript_details(youtube_video_url):\n",
        "    try:\n",
        "        video_id=youtube_video_url.split(\"=\")[1]\n",
        "\n",
        "        transcript_text=YouTubeTranscriptApi.get_transcript(video_id)\n",
        "\n",
        "        transcript = \"\"\n",
        "        for i in transcript_text:\n",
        "            transcript += \" \" + i[\"text\"]\n",
        "\n",
        "        return transcript\n",
        "\n",
        "    except Exception as e:\n",
        "        raise e"
      ],
      "metadata": {
        "id": "4VYNVmJMyzIy"
      },
      "execution_count": 9,
      "outputs": []
    },
    {
      "cell_type": "code",
      "source": [
        "## getting the summary based on Prompt from Google Gemini Pro\n",
        "def generate_gemini_content(transcript_text,prompt):\n",
        "\n",
        "    model=genai.GenerativeModel(\"gemini-pro\")\n",
        "    response=model.generate_content(prompt+transcript_text)\n",
        "    return response.text"
      ],
      "metadata": {
        "id": "h6lbJVMJy-uV"
      },
      "execution_count": 10,
      "outputs": []
    },
    {
      "cell_type": "code",
      "source": [
        "st.title(\"YouTube Transcript to Detailed Notes Converter\")\n",
        "youtube_link = st.text_input(\"Enter YouTube Video Link:\")\n",
        "\n",
        "if youtube_link:\n",
        "    video_id = youtube_link.split(\"=\")[1]\n",
        "    print(video_id)\n",
        "    st.image(f\"http://img.youtube.com/vi/{video_id}/0.jpg\", use_column_width=True)\n",
        "\n",
        "if st.button(\"Get Detailed Notes\"):\n",
        "    transcript_text=extract_transcript_details(youtube_link)\n",
        "\n",
        "    if transcript_text:\n",
        "        summary=generate_gemini_content(transcript_text,prompt)\n",
        "        st.markdown(\"## Detailed Notes:\")\n",
        "        st.write(summary)"
      ],
      "metadata": {
        "colab": {
          "base_uri": "https://localhost:8080/"
        },
        "id": "F0g-tj5VzD0k",
        "outputId": "72d9bbdd-da61-4ae1-f05f-2341b93621ae"
      },
      "execution_count": 11,
      "outputs": [
        {
          "output_type": "stream",
          "name": "stderr",
          "text": [
            "2024-10-22 19:55:19.776 WARNING streamlit.runtime.scriptrunner_utils.script_run_context: Thread 'MainThread': missing ScriptRunContext! This warning can be ignored when running in bare mode.\n",
            "2024-10-22 19:55:19.849 \n",
            "  \u001b[33m\u001b[1mWarning:\u001b[0m to view this Streamlit app on a browser, run it with the following\n",
            "  command:\n",
            "\n",
            "    streamlit run /usr/local/lib/python3.10/dist-packages/colab_kernel_launcher.py [ARGUMENTS]\n",
            "2024-10-22 19:55:19.852 Thread 'MainThread': missing ScriptRunContext! This warning can be ignored when running in bare mode.\n",
            "2024-10-22 19:55:19.854 Thread 'MainThread': missing ScriptRunContext! This warning can be ignored when running in bare mode.\n",
            "2024-10-22 19:55:19.856 Thread 'MainThread': missing ScriptRunContext! This warning can be ignored when running in bare mode.\n",
            "2024-10-22 19:55:19.857 Thread 'MainThread': missing ScriptRunContext! This warning can be ignored when running in bare mode.\n",
            "2024-10-22 19:55:19.858 Thread 'MainThread': missing ScriptRunContext! This warning can be ignored when running in bare mode.\n",
            "2024-10-22 19:55:19.862 Session state does not function when running a script without `streamlit run`\n",
            "2024-10-22 19:55:19.864 Thread 'MainThread': missing ScriptRunContext! This warning can be ignored when running in bare mode.\n",
            "2024-10-22 19:55:19.865 Thread 'MainThread': missing ScriptRunContext! This warning can be ignored when running in bare mode.\n",
            "2024-10-22 19:55:19.868 Thread 'MainThread': missing ScriptRunContext! This warning can be ignored when running in bare mode.\n",
            "2024-10-22 19:55:19.870 Thread 'MainThread': missing ScriptRunContext! This warning can be ignored when running in bare mode.\n",
            "2024-10-22 19:55:19.871 Thread 'MainThread': missing ScriptRunContext! This warning can be ignored when running in bare mode.\n",
            "2024-10-22 19:55:19.873 Thread 'MainThread': missing ScriptRunContext! This warning can be ignored when running in bare mode.\n",
            "2024-10-22 19:55:19.875 Thread 'MainThread': missing ScriptRunContext! This warning can be ignored when running in bare mode.\n"
          ]
        }
      ]
    }
  ]
}